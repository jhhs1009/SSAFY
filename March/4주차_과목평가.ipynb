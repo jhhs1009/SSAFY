{
 "cells": [
  {
   "cell_type": "code",
   "execution_count": 1,
   "metadata": {},
   "outputs": [
    {
     "name": "stdout",
     "output_type": "stream",
     "text": [
      " -5 = 11111011\n",
      " -4 = 11111100\n",
      " -3 = 11111101\n",
      " -2 = 11111110\n",
      " -1 = 11111111\n",
      "  0 = 00000000\n",
      "  1 = 00000001\n",
      "  2 = 00000010\n",
      "  3 = 00000011\n",
      "  4 = 00000100\n",
      "  5 = 00000101\n"
     ]
    }
   ],
   "source": [
    "# 비트 연산 예제1\n",
    "\n",
    "def Bbit_print(i):\n",
    "    output = \"\"\n",
    "    for j in range(7,-1,-1):\n",
    "        output += \"1\" if i & (1 << j) else \"0\"\n",
    "    print(output)\n",
    "\n",
    "for i in range(-5,6):\n",
    "    print(\"%3d = \" %i, end='')\n",
    "    Bbit_print(i)"
   ]
  },
  {
   "cell_type": "code",
   "execution_count": 2,
   "metadata": {},
   "outputs": [
    {
     "name": "stdout",
     "output_type": "stream",
     "text": [
      "16 = 00010000 \n",
      "01020304 = 00000100 00000011 00000010 00000001 "
     ]
    }
   ],
   "source": [
    "# 비트 연산 예제2\n",
    "def Bbit_print(i):\n",
    "    output = \"\"\n",
    "    for j in range(7, -1,-1):\n",
    "        output += \"1\" if i & (1<<j) else \"0\"\n",
    "    print(output, end =' ')\n",
    "\n",
    "a = 0x10\n",
    "x = 0x01020304\n",
    "print(\"%d = \" %a, end='')\n",
    "Bbit_print(a)\n",
    "print()\n",
    "print(\"0%X = \" %x, end='')\n",
    "for i in range(0,4):\n",
    "    Bbit_print((x >> i*8) & 0xff)"
   ]
  },
  {
   "cell_type": "code",
   "execution_count": 5,
   "metadata": {},
   "outputs": [
    {
     "name": "stdout",
     "output_type": "stream",
     "text": [
      "x = 4321\n",
      "x = 1234\n"
     ]
    }
   ],
   "source": [
    "# 비트 연산 예제3\n",
    "def ce(n):\n",
    "    p = []\n",
    "    for i in range(0,4):\n",
    "        p.append((n>>(24-i*8)) & 0xff)\n",
    "    return p\n",
    "\n",
    "x = 0x01020304\n",
    "p = []\n",
    "for i in range(0,4):\n",
    "    p.append((x>>(i*8)) & 0xff)\n",
    "\n",
    "print(\"x = %d%d%d%d\" %(p[0], p[1], p[2], p[3]))\n",
    "p = ce(x)\n",
    "print(\"x = %d%d%d%d\" %(p[0], p[1], p[2], p[3]))"
   ]
  },
  {
   "cell_type": "code",
   "execution_count": 6,
   "metadata": {},
   "outputs": [],
   "source": [
    "# 비트 연산 예제4\n",
    "\n",
    "def ce1(n):\n",
    "    return (n<<24 & 0xff000000) | (n<<8 & 0xff0000) | (n>>8 & 0xff00) | (n>>24&0xff)"
   ]
  },
  {
   "cell_type": "code",
   "execution_count": null,
   "metadata": {},
   "outputs": [],
   "source": [
    "def Bbit_print(i):\n",
    "    output = \"\"\n",
    "    for j in range(7, -1,-1):\n",
    "        output += \"1\" if i & (1<<j) else \"0\"\n",
    "    print(output)\n",
    "\n",
    "a = 0x86\n",
    "key = 0xAA"
   ]
  },
  {
   "cell_type": "code",
   "execution_count": 4,
   "metadata": {},
   "outputs": [
    {
     "data": {
      "text/plain": [
       "'10000'"
      ]
     },
     "execution_count": 4,
     "metadata": {},
     "output_type": "execute_result"
    }
   ],
   "source": [
    "# 10진수 -> n진수\n",
    "\n",
    "def convert_iter(num, base):\n",
    "    power = 0\n",
    "    tmp = ''\n",
    "    while num:\n",
    "        tmp = str(num%base) + tmp\n",
    "        num //= base\n",
    "    return tmp\n",
    "\n",
    "convert_iter(16,2)"
   ]
  },
  {
   "cell_type": "code",
   "execution_count": 1,
   "metadata": {},
   "outputs": [
    {
     "name": "stdout",
     "output_type": "stream",
     "text": [
      "[1, 2, 3]\n",
      "[1, 3, 2]\n",
      "[2, 1, 3]\n",
      "[2, 3, 1]\n",
      "[3, 2, 1]\n",
      "[3, 1, 2]\n"
     ]
    }
   ],
   "source": [
    "# 순열\n",
    "\n",
    "lst = [1, 2, 3]\n",
    "n = 3\n",
    "\n",
    "\n",
    "# idx : idx번째 자리의 주인을 다른 누군가와 바꾸겠다.\n",
    "def perm(idx):\n",
    "    # 종료 조건\n",
    "    if idx == n:\n",
    "        print(lst)\n",
    "        return\n",
    "\n",
    "    # 재귀 호출\n",
    "    # 현재 idx 번재 숫자와 자리를 바꿀 i번째 숫자를 선택\n",
    "    # idx == i 이면 자리를 바꾸지 않겠다는 의미\n",
    "    for i in range(idx, n):\n",
    "        # 자리 바꿔 보고\n",
    "        lst[idx], lst[i] = lst[i], lst[idx]\n",
    "        perm(idx + 1)\n",
    "        # 원상 복귀\n",
    "        lst[idx], lst[i] = lst[i], lst[idx]\n",
    "\n",
    "perm(0)"
   ]
  },
  {
   "cell_type": "code",
   "execution_count": 3,
   "metadata": {},
   "outputs": [
    {
     "name": "stdout",
     "output_type": "stream",
     "text": [
      "[1, 2, 3]\n",
      "[1, 2, 4]\n",
      "[1, 2, 5]\n",
      "[1, 3, 4]\n",
      "[1, 3, 5]\n",
      "[1, 4, 5]\n",
      "[2, 3, 4]\n",
      "[2, 3, 5]\n",
      "[2, 4, 5]\n",
      "[3, 4, 5]\n",
      "========\n"
     ]
    }
   ],
   "source": [
    "# N개 중에 R개를 고르는 경우의 수\n",
    "\n",
    "lst = [1,2,3,4,5]\n",
    "N = 5\n",
    "R = 3\n",
    "\n",
    "# 1. idx 번째 숫자를 고를지 고르지 않을지 결정\n",
    "\n",
    "def comb2(idx, selected):\n",
    "    \n",
    "    # 종료 조건\n",
    "    if len(selected) == R:\n",
    "        print(selected)\n",
    "        return\n",
    "        \n",
    "    \n",
    "    # 재귀호출\n",
    "    for i in range(idx, N):\n",
    "        comb2(i+1, selected + [lst[i]])\n",
    "    \n",
    "comb2(0,[])\n",
    "print(\"========\")"
   ]
  },
  {
   "cell_type": "code",
   "execution_count": 4,
   "metadata": {},
   "outputs": [
    {
     "name": "stdout",
     "output_type": "stream",
     "text": [
      "6\n"
     ]
    }
   ],
   "source": [
    "# 거스름돈 그리디\n",
    "\n",
    "n = 1260 \n",
    "count = 0\n",
    "\n",
    "coin_types = [500,100,50,10] \n",
    "\n",
    "for coin in coin_types:\n",
    "    count += n // coin\n",
    "    n %= coin\n",
    "    \n",
    "print(count)"
   ]
  },
  {
   "cell_type": "code",
   "execution_count": null,
   "metadata": {},
   "outputs": [],
   "source": [
    "# 배낭 [ 탐욕 ]\n",
    "\n",
    "n, k = map(int, input().split())\n",
    "lst=[[0, 0]]\n",
    "\n",
    "for _ in range(n):\n",
    "    lst.append(list(map(int, input().split())))\n",
    "\n",
    "dp = [[0]*(k+1) for _ in range(n+1)]\n",
    "\n",
    "for i in range(1, n+1):\n",
    "    for j in range(1, k+1):\n",
    "        weight = lst[i][0]\n",
    "        value = lst[i][1]\n",
    "        if j < weight:  # 가방에 넣을 수 없으면\n",
    "            dp[i][j] = dp[i - 1][j]  # 위에 값 그대로 가져오기\n",
    "        else: # 가방에 넣을 수 있으면\n",
    "            dp[i][j] = max(dp[i - 1][j], dp[i][j - weight] + value)\n",
    "print(dp[n][k])\n"
   ]
  },
  {
   "cell_type": "code",
   "execution_count": 5,
   "metadata": {},
   "outputs": [
    {
     "ename": "ValueError",
     "evalue": "invalid literal for int() with base 10: ''",
     "output_type": "error",
     "traceback": [
      "\u001b[1;31m---------------------------------------------------------------------------\u001b[0m",
      "\u001b[1;31mValueError\u001b[0m                                Traceback (most recent call last)",
      "Cell \u001b[1;32mIn[5], line 44\u001b[0m\n\u001b[0;32m     41\u001b[0m     right1 \u001b[39m=\u001b[39m merge_sort(right)\n\u001b[0;32m     42\u001b[0m     \u001b[39mreturn\u001b[39;00m merge(left1, right1)\n\u001b[1;32m---> 44\u001b[0m T \u001b[39m=\u001b[39m \u001b[39mint\u001b[39;49m(\u001b[39minput\u001b[39;49m())\n\u001b[0;32m     46\u001b[0m \u001b[39mfor\u001b[39;00m tc \u001b[39min\u001b[39;00m \u001b[39mrange\u001b[39m(T):\n\u001b[0;32m     47\u001b[0m     N \u001b[39m=\u001b[39m \u001b[39mint\u001b[39m(\u001b[39minput\u001b[39m())\n",
      "\u001b[1;31mValueError\u001b[0m: invalid literal for int() with base 10: ''"
     ]
    }
   ],
   "source": [
    "'''\n",
    "N개의 정렬 대상을 가진 리스트 L을 분할할 때 L[0:N//2], L[N//2:N]으로 분할한다.\n",
    "merge 랑 merge sort로 분류해서 문제를 풀어야 함\n",
    "1. merge_sort를 이용해 분리 시킨 후 merge를 이용해서 정렬하는 형식으로 진행\n",
    "'''\n",
    "def merge(left, right):\n",
    "    global res\n",
    "    i, j = 0,0\n",
    "    sorted_list = []\n",
    "    if left[-1] > right[-1]:\n",
    "        res += 1\n",
    "\n",
    "    while i < len(left) and j < len(right):\n",
    "        if left[i] < right[j]:\n",
    "            sorted_list.append(left[i])\n",
    "            i += 1\n",
    "        else:\n",
    "            sorted_list.append(right[j])\n",
    "            j += 1\n",
    "    \n",
    "    # 위에서 크기 분별해서 넣고 남은 것들 넣기\n",
    "    while i < len(left):\n",
    "        sorted_list.append(left[i])\n",
    "        i += 1\n",
    "\n",
    "    while j < len(right):\n",
    "        sorted_list.append(right[j])\n",
    "        j += 1\n",
    "\n",
    "    return sorted_list\n",
    "\n",
    "def merge_sort(num_list):\n",
    "    if len(num_list) <= 1:\n",
    "        return num_list\n",
    "\n",
    "    mid = len(num_list) // 2\n",
    "    left = num_list[:mid]\n",
    "    right = num_list[mid:]\n",
    "\n",
    "    left1 = merge_sort(left)\n",
    "    right1 = merge_sort(right)\n",
    "    return merge(left1, right1)\n",
    "\n",
    "T = int(input())\n",
    "\n",
    "for tc in range(T):\n",
    "    N = int(input())\n",
    "    res = 0\n",
    "    num_list = list(map(int,input().split()))\n",
    "\n",
    "    result = merge_sort(num_list)\n",
    "    print(f\"#{tc+1} {result[N//2]} {res}\")"
   ]
  },
  {
   "cell_type": "code",
   "execution_count": null,
   "metadata": {},
   "outputs": [],
   "source": [
    "'''\n",
    "퀵 정렬을 구현해 N개의 정수를 정렬해 리스트 A에 넣고\n",
    "A[N//2]에 저장된 값을 출력하는 프로그램을 만드시오\n",
    "'''\n",
    "\n",
    "def partition(a,l,r):\n",
    "    p = a[l]\n",
    "    i,j = l,r\n",
    "\n",
    "    while i <= j:\n",
    "        while i <=j and a[i] <=p:\n",
    "            i += 1\n",
    "        while i<=j and a[j] >= p:\n",
    "            j -=1\n",
    "        if i < j:\n",
    "            a[i], a[j] = a[j], a[i]\n",
    "\n",
    "    a[l], a[j] = a[j], a[l]\n",
    "    return j\n",
    "\n",
    "def quicksort(a,l,r):\n",
    "    if l < r:\n",
    "        s = partition(a,l,r)\n",
    "        quicksort(a,l,s-1)\n",
    "        quicksort(a,s+1,r)\n",
    "\n",
    "\n",
    "T = int(input())\n",
    "\n",
    "for tc in range(T):\n",
    "\n",
    "    N = int(input())\n",
    "\n",
    "    num_list = list(map(int,input().split()))\n",
    "    quicksort(num_list,0,N-1)\n",
    "    print(f\"#{tc+1} {num_list[N//2]}\")"
   ]
  }
 ],
 "metadata": {
  "kernelspec": {
   "display_name": "Python 3",
   "language": "python",
   "name": "python3"
  },
  "language_info": {
   "codemirror_mode": {
    "name": "ipython",
    "version": 3
   },
   "file_extension": ".py",
   "mimetype": "text/x-python",
   "name": "python",
   "nbconvert_exporter": "python",
   "pygments_lexer": "ipython3",
   "version": "3.9.13"
  },
  "orig_nbformat": 4,
  "vscode": {
   "interpreter": {
    "hash": "4133b62dfac7b298df353e1b20b9ec6f0e05b3fa2c5974bcbae0b081a95105bf"
   }
  }
 },
 "nbformat": 4,
 "nbformat_minor": 2
}
