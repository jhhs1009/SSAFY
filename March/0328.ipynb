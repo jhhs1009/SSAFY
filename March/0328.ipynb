{
 "cells": [
  {
   "cell_type": "code",
   "execution_count": null,
   "metadata": {},
   "outputs": [],
   "source": [
    "'''\n",
    "조합\n",
    "'''\n",
    "\n",
    "N = 10\n",
    "for i in range(N-2):\n",
    "    for j in range(i+1, N-1):\n",
    "        for k in range(j+1, N):\n",
    "            print(i,j,k)"
   ]
  },
  {
   "cell_type": "code",
   "execution_count": 8,
   "metadata": {},
   "outputs": [
    {
     "name": "stdout",
     "output_type": "stream",
     "text": [
      "[2, 1, 0]\n",
      "[3, 1, 0]\n",
      "[4, 1, 0]\n",
      "[3, 2, 0]\n",
      "[4, 2, 0]\n",
      "[4, 3, 0]\n",
      "[3, 2, 1]\n",
      "[4, 2, 1]\n",
      "[4, 3, 1]\n",
      "[4, 3, 2]\n"
     ]
    }
   ],
   "source": [
    "# 조합\n",
    "# n개에서 r개를 고르는 조합, s : 고를 수 있는 구간의 시작 인덱스\n",
    "\n",
    "def nCr(n,r,s):\n",
    "    if r == 0:\n",
    "        print(comb)\n",
    "    else:\n",
    "        for i in range(s,n-r+1):\n",
    "            comb[r-1] = A[i]\n",
    "            nCr(n,r-1,i+1)\n",
    "\n",
    "n = 5\n",
    "r = 3\n",
    "\n",
    "comb = [0]*3\n",
    "A = [i for i in range(n)]\n",
    "nCr(n,r,0)\n"
   ]
  },
  {
   "cell_type": "code",
   "execution_count": 12,
   "metadata": {},
   "outputs": [
    {
     "name": "stdout",
     "output_type": "stream",
     "text": [
      "0 0 0 0 0\n",
      "0 0 0 0 1\n",
      "0 0 0 1 0\n",
      "0 0 0 1 1\n",
      "0 0 1 0 0\n",
      "0 0 1 0 1\n",
      "0 0 1 1 0\n",
      "0 0 1 1 1\n",
      "0 1 0 0 0\n",
      "0 1 0 0 1\n",
      "0 1 0 1 0\n",
      "0 1 0 1 1\n",
      "0 1 1 0 0\n",
      "0 1 1 0 1\n",
      "0 1 1 1 0\n",
      "0 1 1 1 1\n",
      "1 0 0 0 0\n",
      "1 0 0 0 1\n",
      "1 0 0 1 0\n",
      "1 0 0 1 1\n",
      "1 0 1 0 0\n",
      "1 0 1 0 1\n",
      "1 0 1 1 0\n",
      "1 0 1 1 1\n",
      "1 1 0 0 0\n",
      "1 1 0 0 1\n",
      "1 1 0 1 0\n",
      "1 1 0 1 1\n",
      "1 1 1 0 0\n",
      "1 1 1 0 1\n",
      "1 1 1 1 0\n",
      "1 1 1 1 1\n"
     ]
    }
   ],
   "source": [
    "def f(i,k):     # bit[i]를 결정하는 함수\n",
    "    if i==k:    # bit의 모든 원소 결정\n",
    "        print(*bit)\n",
    "    else:\n",
    "        bit[i] = 0\n",
    "        f(i+1, k)\n",
    "        bit[i] = 1\n",
    "        f(i+1, k)\n",
    "\n",
    "A = [7,2,5,3,4]\n",
    "N = len(A)\n",
    "# bit[i] A[i] 원소가 부분집합에 포함되는지를 표시함\n",
    "bit = [0]*N\n",
    "f(0, N)"
   ]
  },
  {
   "cell_type": "code",
   "execution_count": 15,
   "metadata": {},
   "outputs": [
    {
     "name": "stdout",
     "output_type": "stream",
     "text": [
      "[1, 2, 3]\n",
      "[1, 2, 4]\n",
      "[1, 2, 5]\n",
      "[1, 3, 4]\n",
      "[1, 3, 5]\n",
      "[1, 4, 5]\n",
      "[2, 3, 4]\n",
      "[2, 3, 5]\n",
      "[2, 4, 5]\n",
      "[3, 4, 5]\n"
     ]
    }
   ],
   "source": [
    "lst = [1,2,3,4,5]\n",
    "N = 5\n",
    "R = 3\n",
    "\n",
    "# N개 중에 R개를 고르는 경우의 수\n",
    "\n",
    "# 1. idx 번째 숫자를 고를지 고르지 않을지 결정\n",
    "\n",
    "def comb(idx, r, selected):\n",
    "    \n",
    "    # 종료 조건\n",
    "    if idx == N:\n",
    "        # print(selected)\n",
    "        # return\n",
    "\n",
    "        # R개 골랐을 때만 출력\n",
    "        if r == R:\n",
    "            print(selected)\n",
    "    \n",
    "    # 재귀 호출\n",
    "    # 고르고 진행 하던가\n",
    "    selected.append(lst[idx])\n",
    "    comb(idx+1, r+1, selected)\n",
    "    # 고르지 않고 진행하던가\n",
    "    selected.pop()\n",
    "    comb(idx+1, r, selected)\n",
    "\n",
    "comb(0,0,[])"
   ]
  },
  {
   "cell_type": "code",
   "execution_count": 16,
   "metadata": {},
   "outputs": [
    {
     "ename": "SyntaxError",
     "evalue": "invalid syntax (1866878515.py, line 12)",
     "output_type": "error",
     "traceback": [
      "\u001b[1;36m  Cell \u001b[1;32mIn[16], line 12\u001b[1;36m\u001b[0m\n\u001b[1;33m    if len() == :\u001b[0m\n\u001b[1;37m                ^\u001b[0m\n\u001b[1;31mSyntaxError\u001b[0m\u001b[1;31m:\u001b[0m invalid syntax\n"
     ]
    }
   ],
   "source": [
    "lst = [1,2,3,4,5]\n",
    "N = 5\n",
    "R = 3\n",
    "\n",
    "# N개 중에 R개를 고르는 경우의 수\n",
    "\n",
    "# 1. idx 번째 숫자를 고를지 고르지 않을지 결정\n",
    "\n",
    "def comb2(idx, selected):\n",
    "    \n",
    "    # 종료 조건\n",
    "    if len(selected) == R:\n",
    "        print(selected)\n",
    "        return\n",
    "        \n",
    "    \n",
    "    # 재귀호출\n",
    "    for i in range(idx, N):\n",
    "        comb2(i+1, selected + [lst[i]])\n",
    "    \n",
    "comb(0,0,[])\n",
    "print(\"========\")\n",
    "comb(0,0,[])"
   ]
  },
  {
   "cell_type": "code",
   "execution_count": null,
   "metadata": {},
   "outputs": [],
   "source": []
  }
 ],
 "metadata": {
  "kernelspec": {
   "display_name": "Python 3",
   "language": "python",
   "name": "python3"
  },
  "language_info": {
   "codemirror_mode": {
    "name": "ipython",
    "version": 3
   },
   "file_extension": ".py",
   "mimetype": "text/x-python",
   "name": "python",
   "nbconvert_exporter": "python",
   "pygments_lexer": "ipython3",
   "version": "3.9.13"
  },
  "orig_nbformat": 4
 },
 "nbformat": 4,
 "nbformat_minor": 2
}
