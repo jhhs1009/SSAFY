{
 "cells": [
  {
   "cell_type": "code",
   "execution_count": 2,
   "metadata": {},
   "outputs": [
    {
     "name": "stdout",
     "output_type": "stream",
     "text": [
      "\"c:\\python_project\\test\"\n"
     ]
    }
   ],
   "source": [
    "print('\"c:\\\\python_project\\\\test\"')"
   ]
  },
  {
   "cell_type": "code",
   "execution_count": 4,
   "metadata": {},
   "outputs": [
    {
     "name": "stdout",
     "output_type": "stream",
     "text": [
      "5\n"
     ]
    }
   ],
   "source": [
    "# 1-2\n",
    "\n",
    "a = int(input(\"게시글의 총 갯수를 입력하세요: \"))\n",
    "b = int(input(\"한 페이지에 필요한 게시글 수를 입력하세요: \"))\n",
    "\n",
    "print(int(a/b))"
   ]
  },
  {
   "cell_type": "code",
   "execution_count": 7,
   "metadata": {},
   "outputs": [
    {
     "name": "stdout",
     "output_type": "stream",
     "text": [
      "김코딩\n",
      "\n",
      "이싸피\n"
     ]
    }
   ],
   "source": [
    "# 1-3\n",
    "\n",
    "person1 = input(\"첫 번째 사람의 이름을 입력하시오: \")\n",
    "person2 = input(\"두 번째 사람의 이름을 입력하시오: \")\n",
    "\n",
    "print(person1+'\\n\\n'+person2)\n"
   ]
  },
  {
   "cell_type": "code",
   "execution_count": 34,
   "metadata": {},
   "outputs": [
    {
     "name": "stdout",
     "output_type": "stream",
     "text": [
      "249500\n",
      "71071\n",
      "35784\n",
      "284787\n"
     ]
    }
   ],
   "source": [
    "# 1-4\n",
    "\n",
    "dx = int(1000 / 2)\n",
    "dy = int((1000 / 7)+1)\n",
    "dz = int((1000 / 14)+1)\n",
    "x_list = []\n",
    "y_list = []\n",
    "z_list = []\n",
    "\n",
    "for i in range(dx):\n",
    "    x_list.append((2*i))\n",
    "\n",
    "for j in range(dy):\n",
    "    y_list.append((7*j))\n",
    "\n",
    "for k in range(dz):\n",
    "    z_list.append((14*k))\n",
    "\n",
    "A = sum(x_list)\n",
    "B = sum(y_list)\n",
    "C = sum(z_list)\n",
    "\n",
    "print(A+B-C)\n"
   ]
  },
  {
   "cell_type": "code",
   "execution_count": 37,
   "metadata": {},
   "outputs": [
    {
     "name": "stdout",
     "output_type": "stream",
     "text": [
      "****\n",
      "****\n",
      "****\n",
      "****\n",
      "****\n"
     ]
    }
   ],
   "source": [
    "# 1-5\n",
    "\n",
    "m = 5\n",
    "n = 4\n",
    "for i in range(m):\n",
    "    print('*'*n)"
   ]
  }
 ],
 "metadata": {
  "kernelspec": {
   "display_name": "Python 3",
   "language": "python",
   "name": "python3"
  },
  "language_info": {
   "codemirror_mode": {
    "name": "ipython",
    "version": 3
   },
   "file_extension": ".py",
   "mimetype": "text/x-python",
   "name": "python",
   "nbconvert_exporter": "python",
   "pygments_lexer": "ipython3",
   "version": "3.9.13"
  },
  "orig_nbformat": 4,
  "vscode": {
   "interpreter": {
    "hash": "c4b9ebf4ca459396e2ad1150752490c26670c1a037c08cad955a4425787bec2e"
   }
  }
 },
 "nbformat": 4,
 "nbformat_minor": 2
}
